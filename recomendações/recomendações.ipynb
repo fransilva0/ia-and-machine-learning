{
  "nbformat": 4,
  "nbformat_minor": 0,
  "metadata": {
    "colab": {
      "provenance": []
    },
    "kernelspec": {
      "name": "python3",
      "display_name": "Python 3"
    },
    "language_info": {
      "name": "python"
    }
  },
  "cells": [
    {
      "cell_type": "code",
      "execution_count": 1,
      "metadata": {
        "colab": {
          "base_uri": "https://localhost:8080/"
        },
        "id": "IpTfN4velRkt",
        "outputId": "b51f261b-2d4b-42fe-8b66-081befc7a4ed"
      },
      "outputs": [
        {
          "output_type": "stream",
          "name": "stdout",
          "text": [
            "Collecting git+https://github.com/openai/CLIP.git\n",
            "  Cloning https://github.com/openai/CLIP.git to /tmp/pip-req-build-bye9yzmw\n",
            "  Running command git clone --filter=blob:none --quiet https://github.com/openai/CLIP.git /tmp/pip-req-build-bye9yzmw\n",
            "  Resolved https://github.com/openai/CLIP.git to commit dcba3cb2e2827b402d2701e7e1c7d9fed8a20ef1\n",
            "  Preparing metadata (setup.py) ... \u001b[?25l\u001b[?25hdone\n",
            "Collecting ftfy (from clip==1.0)\n",
            "  Downloading ftfy-6.3.1-py3-none-any.whl.metadata (7.3 kB)\n",
            "Requirement already satisfied: packaging in /usr/local/lib/python3.10/dist-packages (from clip==1.0) (24.2)\n",
            "Requirement already satisfied: regex in /usr/local/lib/python3.10/dist-packages (from clip==1.0) (2024.11.6)\n",
            "Requirement already satisfied: tqdm in /usr/local/lib/python3.10/dist-packages (from clip==1.0) (4.67.1)\n",
            "Requirement already satisfied: torch in /usr/local/lib/python3.10/dist-packages (from clip==1.0) (2.5.1+cu121)\n",
            "Requirement already satisfied: torchvision in /usr/local/lib/python3.10/dist-packages (from clip==1.0) (0.20.1+cu121)\n",
            "Requirement already satisfied: wcwidth in /usr/local/lib/python3.10/dist-packages (from ftfy->clip==1.0) (0.2.13)\n",
            "Requirement already satisfied: filelock in /usr/local/lib/python3.10/dist-packages (from torch->clip==1.0) (3.16.1)\n",
            "Requirement already satisfied: typing-extensions>=4.8.0 in /usr/local/lib/python3.10/dist-packages (from torch->clip==1.0) (4.12.2)\n",
            "Requirement already satisfied: networkx in /usr/local/lib/python3.10/dist-packages (from torch->clip==1.0) (3.4.2)\n",
            "Requirement already satisfied: jinja2 in /usr/local/lib/python3.10/dist-packages (from torch->clip==1.0) (3.1.4)\n",
            "Requirement already satisfied: fsspec in /usr/local/lib/python3.10/dist-packages (from torch->clip==1.0) (2024.10.0)\n",
            "Requirement already satisfied: sympy==1.13.1 in /usr/local/lib/python3.10/dist-packages (from torch->clip==1.0) (1.13.1)\n",
            "Requirement already satisfied: mpmath<1.4,>=1.1.0 in /usr/local/lib/python3.10/dist-packages (from sympy==1.13.1->torch->clip==1.0) (1.3.0)\n",
            "Requirement already satisfied: numpy in /usr/local/lib/python3.10/dist-packages (from torchvision->clip==1.0) (1.26.4)\n",
            "Requirement already satisfied: pillow!=8.3.*,>=5.3.0 in /usr/local/lib/python3.10/dist-packages (from torchvision->clip==1.0) (11.0.0)\n",
            "Requirement already satisfied: MarkupSafe>=2.0 in /usr/local/lib/python3.10/dist-packages (from jinja2->torch->clip==1.0) (3.0.2)\n",
            "Downloading ftfy-6.3.1-py3-none-any.whl (44 kB)\n",
            "\u001b[2K   \u001b[90m━━━━━━━━━━━━━━━━━━━━━━━━━━━━━━━━━━━━━━━━\u001b[0m \u001b[32m44.8/44.8 kB\u001b[0m \u001b[31m2.5 MB/s\u001b[0m eta \u001b[36m0:00:00\u001b[0m\n",
            "\u001b[?25hBuilding wheels for collected packages: clip\n",
            "  Building wheel for clip (setup.py) ... \u001b[?25l\u001b[?25hdone\n",
            "  Created wheel for clip: filename=clip-1.0-py3-none-any.whl size=1369489 sha256=01db8d6c7ba36ca4d1dbf8f9aef3c0a1d76f86b644a25ac0e4e1f3c1a64eb7ec\n",
            "  Stored in directory: /tmp/pip-ephem-wheel-cache-9d6xqswf/wheels/da/2b/4c/d6691fa9597aac8bb85d2ac13b112deb897d5b50f5ad9a37e4\n",
            "Successfully built clip\n",
            "Installing collected packages: ftfy, clip\n",
            "Successfully installed clip-1.0 ftfy-6.3.1\n",
            "Requirement already satisfied: torch in /usr/local/lib/python3.10/dist-packages (2.5.1+cu121)\n",
            "Requirement already satisfied: torchvision in /usr/local/lib/python3.10/dist-packages (0.20.1+cu121)\n",
            "Requirement already satisfied: filelock in /usr/local/lib/python3.10/dist-packages (from torch) (3.16.1)\n",
            "Requirement already satisfied: typing-extensions>=4.8.0 in /usr/local/lib/python3.10/dist-packages (from torch) (4.12.2)\n",
            "Requirement already satisfied: networkx in /usr/local/lib/python3.10/dist-packages (from torch) (3.4.2)\n",
            "Requirement already satisfied: jinja2 in /usr/local/lib/python3.10/dist-packages (from torch) (3.1.4)\n",
            "Requirement already satisfied: fsspec in /usr/local/lib/python3.10/dist-packages (from torch) (2024.10.0)\n",
            "Requirement already satisfied: sympy==1.13.1 in /usr/local/lib/python3.10/dist-packages (from torch) (1.13.1)\n",
            "Requirement already satisfied: mpmath<1.4,>=1.1.0 in /usr/local/lib/python3.10/dist-packages (from sympy==1.13.1->torch) (1.3.0)\n",
            "Requirement already satisfied: numpy in /usr/local/lib/python3.10/dist-packages (from torchvision) (1.26.4)\n",
            "Requirement already satisfied: pillow!=8.3.*,>=5.3.0 in /usr/local/lib/python3.10/dist-packages (from torchvision) (11.0.0)\n",
            "Requirement already satisfied: MarkupSafe>=2.0 in /usr/local/lib/python3.10/dist-packages (from jinja2->torch) (3.0.2)\n"
          ]
        }
      ],
      "source": [
        "!pip install git+https://github.com/openai/CLIP.git\n",
        "!pip install torch torchvision"
      ]
    },
    {
      "cell_type": "code",
      "source": [
        "import clip\n",
        "import torch\n",
        "from google.colab import files\n",
        "from PIL import Image\n",
        "import numpy as np\n",
        "from tensorflow.keras.datasets import fashion_mnist\n",
        "from sklearn.metrics.pairwise import cosine_similarity\n",
        "import matplotlib.pyplot as plt\n"
      ],
      "metadata": {
        "id": "ECBBgb6ulmc9"
      },
      "execution_count": 11,
      "outputs": []
    },
    {
      "cell_type": "code",
      "source": [
        "# Carregar o modelo CLIP\n",
        "device = \"cuda\" if torch.cuda.is_available() else \"cpu\"\n",
        "model, preprocess = clip.load(\"ViT-B/32\", device)"
      ],
      "metadata": {
        "colab": {
          "base_uri": "https://localhost:8080/"
        },
        "id": "OQMqTMa_ljbG",
        "outputId": "8b99d043-c636-4499-d5aa-542fac456fc2"
      },
      "execution_count": 3,
      "outputs": [
        {
          "output_type": "stream",
          "name": "stderr",
          "text": [
            "100%|███████████████████████████████████████| 338M/338M [00:06<00:00, 51.9MiB/s]\n"
          ]
        }
      ]
    },
    {
      "cell_type": "code",
      "source": [
        "uploaded = files.upload()\n",
        "\n",
        "image_path = next(iter(uploaded))\n",
        "image = Image.open(image_path)\n",
        "\n",
        "image.show()"
      ],
      "metadata": {
        "colab": {
          "base_uri": "https://localhost:8080/",
          "height": 73
        },
        "id": "gqRePGvglvK2",
        "outputId": "e9bf1e02-79a2-438d-859d-d623dc673db8"
      },
      "execution_count": 5,
      "outputs": [
        {
          "output_type": "display_data",
          "data": {
            "text/plain": [
              "<IPython.core.display.HTML object>"
            ],
            "text/html": [
              "\n",
              "     <input type=\"file\" id=\"files-ba6da59b-9bc3-4342-97e5-b910089dbfb1\" name=\"files[]\" multiple disabled\n",
              "        style=\"border:none\" />\n",
              "     <output id=\"result-ba6da59b-9bc3-4342-97e5-b910089dbfb1\">\n",
              "      Upload widget is only available when the cell has been executed in the\n",
              "      current browser session. Please rerun this cell to enable.\n",
              "      </output>\n",
              "      <script>// Copyright 2017 Google LLC\n",
              "//\n",
              "// Licensed under the Apache License, Version 2.0 (the \"License\");\n",
              "// you may not use this file except in compliance with the License.\n",
              "// You may obtain a copy of the License at\n",
              "//\n",
              "//      http://www.apache.org/licenses/LICENSE-2.0\n",
              "//\n",
              "// Unless required by applicable law or agreed to in writing, software\n",
              "// distributed under the License is distributed on an \"AS IS\" BASIS,\n",
              "// WITHOUT WARRANTIES OR CONDITIONS OF ANY KIND, either express or implied.\n",
              "// See the License for the specific language governing permissions and\n",
              "// limitations under the License.\n",
              "\n",
              "/**\n",
              " * @fileoverview Helpers for google.colab Python module.\n",
              " */\n",
              "(function(scope) {\n",
              "function span(text, styleAttributes = {}) {\n",
              "  const element = document.createElement('span');\n",
              "  element.textContent = text;\n",
              "  for (const key of Object.keys(styleAttributes)) {\n",
              "    element.style[key] = styleAttributes[key];\n",
              "  }\n",
              "  return element;\n",
              "}\n",
              "\n",
              "// Max number of bytes which will be uploaded at a time.\n",
              "const MAX_PAYLOAD_SIZE = 100 * 1024;\n",
              "\n",
              "function _uploadFiles(inputId, outputId) {\n",
              "  const steps = uploadFilesStep(inputId, outputId);\n",
              "  const outputElement = document.getElementById(outputId);\n",
              "  // Cache steps on the outputElement to make it available for the next call\n",
              "  // to uploadFilesContinue from Python.\n",
              "  outputElement.steps = steps;\n",
              "\n",
              "  return _uploadFilesContinue(outputId);\n",
              "}\n",
              "\n",
              "// This is roughly an async generator (not supported in the browser yet),\n",
              "// where there are multiple asynchronous steps and the Python side is going\n",
              "// to poll for completion of each step.\n",
              "// This uses a Promise to block the python side on completion of each step,\n",
              "// then passes the result of the previous step as the input to the next step.\n",
              "function _uploadFilesContinue(outputId) {\n",
              "  const outputElement = document.getElementById(outputId);\n",
              "  const steps = outputElement.steps;\n",
              "\n",
              "  const next = steps.next(outputElement.lastPromiseValue);\n",
              "  return Promise.resolve(next.value.promise).then((value) => {\n",
              "    // Cache the last promise value to make it available to the next\n",
              "    // step of the generator.\n",
              "    outputElement.lastPromiseValue = value;\n",
              "    return next.value.response;\n",
              "  });\n",
              "}\n",
              "\n",
              "/**\n",
              " * Generator function which is called between each async step of the upload\n",
              " * process.\n",
              " * @param {string} inputId Element ID of the input file picker element.\n",
              " * @param {string} outputId Element ID of the output display.\n",
              " * @return {!Iterable<!Object>} Iterable of next steps.\n",
              " */\n",
              "function* uploadFilesStep(inputId, outputId) {\n",
              "  const inputElement = document.getElementById(inputId);\n",
              "  inputElement.disabled = false;\n",
              "\n",
              "  const outputElement = document.getElementById(outputId);\n",
              "  outputElement.innerHTML = '';\n",
              "\n",
              "  const pickedPromise = new Promise((resolve) => {\n",
              "    inputElement.addEventListener('change', (e) => {\n",
              "      resolve(e.target.files);\n",
              "    });\n",
              "  });\n",
              "\n",
              "  const cancel = document.createElement('button');\n",
              "  inputElement.parentElement.appendChild(cancel);\n",
              "  cancel.textContent = 'Cancel upload';\n",
              "  const cancelPromise = new Promise((resolve) => {\n",
              "    cancel.onclick = () => {\n",
              "      resolve(null);\n",
              "    };\n",
              "  });\n",
              "\n",
              "  // Wait for the user to pick the files.\n",
              "  const files = yield {\n",
              "    promise: Promise.race([pickedPromise, cancelPromise]),\n",
              "    response: {\n",
              "      action: 'starting',\n",
              "    }\n",
              "  };\n",
              "\n",
              "  cancel.remove();\n",
              "\n",
              "  // Disable the input element since further picks are not allowed.\n",
              "  inputElement.disabled = true;\n",
              "\n",
              "  if (!files) {\n",
              "    return {\n",
              "      response: {\n",
              "        action: 'complete',\n",
              "      }\n",
              "    };\n",
              "  }\n",
              "\n",
              "  for (const file of files) {\n",
              "    const li = document.createElement('li');\n",
              "    li.append(span(file.name, {fontWeight: 'bold'}));\n",
              "    li.append(span(\n",
              "        `(${file.type || 'n/a'}) - ${file.size} bytes, ` +\n",
              "        `last modified: ${\n",
              "            file.lastModifiedDate ? file.lastModifiedDate.toLocaleDateString() :\n",
              "                                    'n/a'} - `));\n",
              "    const percent = span('0% done');\n",
              "    li.appendChild(percent);\n",
              "\n",
              "    outputElement.appendChild(li);\n",
              "\n",
              "    const fileDataPromise = new Promise((resolve) => {\n",
              "      const reader = new FileReader();\n",
              "      reader.onload = (e) => {\n",
              "        resolve(e.target.result);\n",
              "      };\n",
              "      reader.readAsArrayBuffer(file);\n",
              "    });\n",
              "    // Wait for the data to be ready.\n",
              "    let fileData = yield {\n",
              "      promise: fileDataPromise,\n",
              "      response: {\n",
              "        action: 'continue',\n",
              "      }\n",
              "    };\n",
              "\n",
              "    // Use a chunked sending to avoid message size limits. See b/62115660.\n",
              "    let position = 0;\n",
              "    do {\n",
              "      const length = Math.min(fileData.byteLength - position, MAX_PAYLOAD_SIZE);\n",
              "      const chunk = new Uint8Array(fileData, position, length);\n",
              "      position += length;\n",
              "\n",
              "      const base64 = btoa(String.fromCharCode.apply(null, chunk));\n",
              "      yield {\n",
              "        response: {\n",
              "          action: 'append',\n",
              "          file: file.name,\n",
              "          data: base64,\n",
              "        },\n",
              "      };\n",
              "\n",
              "      let percentDone = fileData.byteLength === 0 ?\n",
              "          100 :\n",
              "          Math.round((position / fileData.byteLength) * 100);\n",
              "      percent.textContent = `${percentDone}% done`;\n",
              "\n",
              "    } while (position < fileData.byteLength);\n",
              "  }\n",
              "\n",
              "  // All done.\n",
              "  yield {\n",
              "    response: {\n",
              "      action: 'complete',\n",
              "    }\n",
              "  };\n",
              "}\n",
              "\n",
              "scope.google = scope.google || {};\n",
              "scope.google.colab = scope.google.colab || {};\n",
              "scope.google.colab._files = {\n",
              "  _uploadFiles,\n",
              "  _uploadFilesContinue,\n",
              "};\n",
              "})(self);\n",
              "</script> "
            ]
          },
          "metadata": {}
        },
        {
          "output_type": "stream",
          "name": "stdout",
          "text": [
            "Saving image-test.jpg to image-test.jpg\n"
          ]
        }
      ]
    },
    {
      "cell_type": "code",
      "source": [
        "image_input = preprocess(image).unsqueeze(0).to(device)\n",
        "\n",
        "\n",
        "with torch.no_grad():\n",
        "    image_features = model.encode_image(image_input)\n",
        "\n",
        "image_features = image_features / image_features.norm(dim=-1, keepdim=True)\n",
        "\n",
        "print(\"Embedding gerado para a imagem:\", image_features)"
      ],
      "metadata": {
        "colab": {
          "base_uri": "https://localhost:8080/"
        },
        "id": "bOMLC3tOl-Lu",
        "outputId": "e6de72d5-dc29-4aa9-f2ac-d1b7cf6f1072"
      },
      "execution_count": 6,
      "outputs": [
        {
          "output_type": "stream",
          "name": "stdout",
          "text": [
            "Embedding gerado para a imagem: tensor([[ 1.7256e-02,  3.5732e-02,  1.9601e-02,  1.0308e-02, -1.5059e-02,\n",
            "         -6.3259e-03, -1.4800e-02,  5.6013e-02,  5.7610e-02, -1.3230e-02,\n",
            "         -1.5663e-02, -1.1685e-02, -1.7164e-02,  5.6516e-03, -1.0512e-02,\n",
            "          2.2011e-02,  9.2881e-02,  1.9875e-02, -9.5744e-03, -1.7737e-02,\n",
            "         -1.3337e-02,  2.3850e-02, -8.7430e-03, -6.0017e-02,  9.8628e-03,\n",
            "          5.2935e-02, -8.0935e-03, -1.5169e-02,  4.3434e-03, -2.0398e-02,\n",
            "         -3.1644e-02,  1.1939e-02,  6.6822e-03,  6.5049e-03, -4.8978e-03,\n",
            "          2.2151e-02, -3.0494e-02,  2.7168e-02, -2.3278e-02,  4.8315e-02,\n",
            "         -2.1504e-02, -9.5005e-03,  2.3993e-03, -1.8838e-02,  2.3886e-02,\n",
            "          6.5297e-02,  1.1441e-02, -9.0994e-03,  7.2569e-02, -1.4905e-03,\n",
            "          8.3470e-03, -1.0267e-02,  3.6690e-02, -4.0119e-03,  2.6935e-03,\n",
            "          1.3061e-02, -3.0884e-02,  2.5288e-02, -1.5525e-03,  2.9676e-02,\n",
            "          4.5110e-02,  2.0549e-02,  1.6186e-02, -1.9425e-03, -1.4719e-02,\n",
            "         -3.3716e-06, -6.0857e-03, -4.5272e-02,  7.4350e-04,  3.1584e-03,\n",
            "         -3.1132e-02,  9.9135e-03,  1.9832e-02,  1.2845e-02, -9.4698e-03,\n",
            "         -4.4663e-02,  6.9401e-05, -6.4950e-03,  2.6352e-02,  7.6704e-03,\n",
            "         -4.8707e-02, -9.9518e-03, -2.8590e-02, -9.5405e-03,  3.1668e-02,\n",
            "         -2.4812e-02, -7.6125e-03, -2.0870e-02, -1.7028e-02,  3.6250e-02,\n",
            "          1.3545e-02, -2.3890e-02, -7.3312e-01,  4.6134e-02, -1.0260e-02,\n",
            "          1.8203e-03,  2.4782e-02,  3.3277e-02, -4.4469e-02,  8.1271e-04,\n",
            "         -1.4076e-02, -5.7673e-02,  6.1595e-02, -1.5532e-02, -1.6600e-02,\n",
            "         -2.1004e-02, -2.3574e-02, -2.7620e-02,  6.8534e-03, -2.5665e-03,\n",
            "          1.4431e-02,  2.5385e-02, -2.6973e-02, -3.5495e-02, -7.2892e-03,\n",
            "          1.0100e-02, -4.0896e-03,  1.6003e-02,  7.0342e-03, -5.1154e-03,\n",
            "          1.0495e-02,  4.2399e-02,  3.2340e-02,  8.8505e-05, -5.5554e-02,\n",
            "          6.9738e-03, -3.6289e-02,  1.6616e-02,  1.8662e-02,  3.4768e-02,\n",
            "         -2.4286e-02,  1.1992e-02, -1.5654e-03,  8.6642e-02,  5.1566e-02,\n",
            "          2.2853e-03,  1.3320e-02,  3.1497e-02,  1.8636e-02,  1.5339e-03,\n",
            "         -1.2193e-02,  1.6341e-02, -3.5954e-02,  1.3533e-02, -3.8649e-02,\n",
            "          1.2028e-02,  3.0084e-02, -2.3586e-02, -2.6751e-02,  2.0917e-02,\n",
            "          3.9324e-02,  1.2448e-02,  1.1540e-01, -3.2379e-02,  4.7288e-02,\n",
            "         -8.9549e-03,  1.1562e-03,  2.4139e-02,  6.9272e-03,  1.6905e-03,\n",
            "         -4.8305e-02,  1.7004e-02,  2.1015e-03,  1.2981e-03,  5.3382e-02,\n",
            "          1.2903e-02,  9.1108e-02, -7.2318e-03,  1.1654e-03,  1.9972e-02,\n",
            "         -1.6568e-02, -2.0252e-02,  3.4750e-03, -1.2466e-02, -1.6196e-02,\n",
            "          3.8669e-03,  7.3307e-02, -5.2631e-03,  5.3550e-03, -3.6756e-02,\n",
            "          5.2965e-02,  3.7260e-02,  6.0951e-03, -3.0696e-03, -4.3890e-03,\n",
            "          9.5812e-03, -1.7573e-03, -4.3968e-03, -2.5191e-02, -9.4845e-03,\n",
            "          7.9027e-03, -1.3810e-02,  2.6330e-02, -2.4011e-02,  8.4517e-02,\n",
            "         -3.1677e-02, -1.1863e-02,  1.5906e-02, -3.0705e-02,  3.1793e-02,\n",
            "          9.7463e-04, -3.9416e-02, -6.7436e-03,  3.9607e-02, -4.3152e-02,\n",
            "         -1.8590e-02, -5.9924e-02, -1.7286e-02, -1.9648e-02, -3.8744e-03,\n",
            "         -1.2706e-02,  3.7227e-02,  1.1707e-02, -9.6944e-03,  4.0114e-04,\n",
            "          1.4905e-02,  1.0624e-02,  3.0486e-02,  3.5896e-03,  1.6334e-02,\n",
            "          1.4602e-02, -9.0123e-02,  3.1094e-02,  3.9613e-02,  3.1414e-02,\n",
            "          8.9487e-03,  2.1818e-02, -1.5847e-02,  2.7125e-02,  2.2158e-03,\n",
            "          7.3943e-03,  9.3531e-03,  4.7211e-03,  3.7612e-02, -9.5058e-04,\n",
            "         -7.5685e-03, -6.9703e-03,  7.1758e-03, -1.4615e-02, -2.6948e-03,\n",
            "          2.5301e-03,  2.1808e-03, -5.1481e-03,  1.6303e-03,  2.9220e-02,\n",
            "         -9.4105e-03,  1.0975e-02,  2.0814e-02, -3.5881e-02, -1.1584e-03,\n",
            "          8.3607e-03,  9.5643e-03,  3.0782e-02,  1.1938e-02, -2.7064e-02,\n",
            "          1.6631e-03,  1.8635e-02,  3.6738e-03, -8.3170e-02, -1.5112e-02,\n",
            "          1.7110e-02, -2.6153e-03, -2.3722e-02, -2.0231e-02, -1.9219e-02,\n",
            "         -1.2800e-02,  1.2592e-02, -4.7677e-03,  1.4765e-02, -1.7863e-03,\n",
            "         -3.6016e-02,  1.0654e-02,  1.7665e-02, -3.2093e-02, -2.1058e-02,\n",
            "          4.2104e-02,  2.4364e-04, -1.8533e-02, -2.3391e-02,  2.5523e-02,\n",
            "         -3.3040e-02,  1.0324e-02, -1.8093e-02,  7.3059e-03, -1.2949e-02,\n",
            "         -2.3674e-02,  1.6382e-01, -1.1710e-02, -3.1695e-02,  1.4588e-03,\n",
            "          4.2678e-02,  2.3495e-02, -3.6668e-02,  3.9275e-02, -3.9622e-03,\n",
            "         -2.0182e-02,  1.1872e-02,  4.1321e-04,  1.9622e-02,  1.3679e-02,\n",
            "          1.0341e-02,  7.3038e-03,  1.3168e-03,  2.6656e-02, -2.0499e-02,\n",
            "         -3.3671e-02,  2.8693e-02,  2.1767e-04, -8.0489e-03,  2.1381e-02,\n",
            "         -5.7239e-02,  9.1532e-03,  8.6646e-02, -2.8504e-02,  2.6182e-02,\n",
            "         -2.9816e-02,  3.6172e-02, -1.8147e-02,  5.2519e-03, -2.7283e-02,\n",
            "         -7.3861e-03,  1.6102e-01, -8.0879e-03, -2.1609e-02,  6.9324e-02,\n",
            "         -3.1576e-02,  6.7291e-02,  2.4710e-02,  1.5963e-02,  3.5545e-02,\n",
            "         -4.1870e-03, -3.6416e-03, -3.1135e-02, -2.2678e-02, -3.1199e-02,\n",
            "         -2.1423e-02,  1.4212e-02,  8.2546e-03, -2.6966e-02, -1.6205e-03,\n",
            "         -2.9036e-02, -3.2812e-02,  3.9677e-02,  3.6351e-02, -2.3149e-02,\n",
            "          1.0678e-02, -1.9439e-04, -1.8071e-02, -1.3155e-02, -1.4994e-02,\n",
            "          1.2160e-02, -2.3096e-02,  4.9667e-03, -4.0945e-03,  2.4544e-02,\n",
            "          1.2723e-02, -1.6404e-02,  2.3047e-02, -1.5966e-02,  2.1672e-02,\n",
            "          5.7320e-02, -5.3024e-02,  8.1472e-03, -2.9019e-03,  6.3222e-02,\n",
            "         -2.8011e-02, -2.8739e-02,  4.7649e-02,  2.5384e-02, -2.8051e-03,\n",
            "          4.0550e-03, -8.4659e-03,  1.4411e-02,  6.6936e-03,  1.2309e-02,\n",
            "         -2.6150e-02,  9.0578e-03, -3.9786e-02, -3.8394e-02,  3.8608e-03,\n",
            "         -2.1757e-03, -2.6396e-02, -6.2595e-02, -5.7137e-03,  1.4511e-02,\n",
            "          5.0681e-03,  8.6233e-03, -1.3948e-02, -3.3025e-03, -2.2883e-02,\n",
            "         -7.2101e-02, -2.2494e-02, -2.6858e-02,  3.6297e-03, -7.6499e-02,\n",
            "         -6.4612e-02, -2.2013e-02, -2.0671e-02, -3.2892e-03,  4.5450e-02,\n",
            "          1.6371e-02, -1.0017e-02,  9.4756e-02, -4.1613e-02, -3.6778e-03,\n",
            "         -1.0866e-02, -2.3951e-02,  2.4588e-02, -3.1435e-02, -6.7831e-03,\n",
            "          2.8461e-02, -1.7761e-02,  1.5007e-02,  1.7970e-02, -5.8431e-02,\n",
            "         -1.5835e-03, -2.7355e-02,  2.5765e-02, -4.0885e-02, -2.6365e-02,\n",
            "          6.0865e-03, -9.9135e-03, -1.8236e-03,  6.4900e-02, -1.0242e-02,\n",
            "          3.2868e-02,  2.1172e-02,  4.0333e-02, -1.0793e-01, -1.4319e-02,\n",
            "          1.8646e-02, -1.7068e-02,  7.8882e-02,  1.0176e-03, -7.0586e-03,\n",
            "          1.6146e-03,  2.0887e-02, -1.9433e-02,  2.9827e-03, -1.0340e-03,\n",
            "         -1.0499e-02,  2.2478e-02,  5.1250e-02,  6.4890e-03,  4.0027e-02,\n",
            "         -4.8372e-02,  1.7938e-02, -3.6290e-03,  6.2963e-03,  3.2652e-02,\n",
            "         -9.4566e-03,  2.3837e-03,  2.5303e-02, -3.7537e-02, -2.1139e-02,\n",
            "          1.9236e-03, -4.0875e-02,  1.2766e-02, -2.4358e-03, -1.1615e-02,\n",
            "         -4.7365e-03, -7.2610e-04,  3.1150e-02,  1.1326e-02,  1.0090e-02,\n",
            "         -2.8056e-02,  5.0185e-02, -2.8751e-03, -2.9706e-02, -2.5038e-02,\n",
            "         -1.8218e-04, -1.6107e-02,  2.9303e-02, -2.1942e-02,  3.0337e-02,\n",
            "         -2.6980e-02,  1.8325e-02,  1.8913e-02,  2.4891e-02,  5.2611e-02,\n",
            "         -5.0953e-03, -1.5822e-02, -3.8099e-04, -1.0364e-02,  2.2443e-02,\n",
            "          2.2148e-03, -9.6231e-03,  1.4560e-02,  2.4734e-02,  2.7932e-02,\n",
            "          1.7748e-02, -8.3407e-03, -1.6412e-02, -2.4041e-02, -2.2911e-02,\n",
            "         -1.9110e-02,  2.0752e-02, -1.4112e-02,  9.2352e-03,  1.5278e-02,\n",
            "         -7.5822e-03,  2.8114e-02, -3.6272e-03,  1.9613e-02, -5.1760e-03,\n",
            "         -1.7928e-02, -2.2315e-02,  1.9645e-02, -2.1663e-02,  5.0144e-02,\n",
            "         -1.7597e-02,  3.0483e-02]])\n"
          ]
        }
      ]
    },
    {
      "cell_type": "code",
      "source": [
        "(train_images, train_labels), (test_images, test_labels) = fashion_mnist.load_data()\n",
        "\n",
        "dataset_embeddings = []\n",
        "\n",
        "for img in train_images[:1000]:\n",
        "    img = Image.fromarray(img)\n",
        "    img = preprocess(img).unsqueeze(0).to(device)\n",
        "    with torch.no_grad():\n",
        "        img_features = model.encode_image(img)\n",
        "    img_features = img_features / img_features.norm(dim=-1, keepdim=True)\n",
        "    dataset_embeddings.append(img_features.cpu().numpy())\n",
        "\n",
        "dataset_embeddings = np.array(dataset_embeddings)\n"
      ],
      "metadata": {
        "colab": {
          "base_uri": "https://localhost:8080/"
        },
        "id": "GugnvfQ2mFxO",
        "outputId": "bdb7a713-39fa-467d-ceaa-a2c7a95508e9"
      },
      "execution_count": 10,
      "outputs": [
        {
          "output_type": "stream",
          "name": "stdout",
          "text": [
            "Downloading data from https://storage.googleapis.com/tensorflow/tf-keras-datasets/train-labels-idx1-ubyte.gz\n",
            "\u001b[1m29515/29515\u001b[0m \u001b[32m━━━━━━━━━━━━━━━━━━━━\u001b[0m\u001b[37m\u001b[0m \u001b[1m0s\u001b[0m 0us/step\n",
            "Downloading data from https://storage.googleapis.com/tensorflow/tf-keras-datasets/train-images-idx3-ubyte.gz\n",
            "\u001b[1m26421880/26421880\u001b[0m \u001b[32m━━━━━━━━━━━━━━━━━━━━\u001b[0m\u001b[37m\u001b[0m \u001b[1m0s\u001b[0m 0us/step\n",
            "Downloading data from https://storage.googleapis.com/tensorflow/tf-keras-datasets/t10k-labels-idx1-ubyte.gz\n",
            "\u001b[1m5148/5148\u001b[0m \u001b[32m━━━━━━━━━━━━━━━━━━━━\u001b[0m\u001b[37m\u001b[0m \u001b[1m0s\u001b[0m 0us/step\n",
            "Downloading data from https://storage.googleapis.com/tensorflow/tf-keras-datasets/t10k-images-idx3-ubyte.gz\n",
            "\u001b[1m4422102/4422102\u001b[0m \u001b[32m━━━━━━━━━━━━━━━━━━━━\u001b[0m\u001b[37m\u001b[0m \u001b[1m0s\u001b[0m 0us/step\n"
          ]
        }
      ]
    },
    {
      "cell_type": "code",
      "source": [
        "similarities = cosine_similarity(image_features.cpu().numpy(), dataset_embeddings.reshape(len(dataset_embeddings), -1))\n",
        "\n",
        "top_5_indices = similarities.argsort()[0][-5:]\n",
        "\n",
        "plt.figure(figsize=(15, 10))\n",
        "for i, idx in enumerate(top_5_indices):\n",
        "    plt.subplot(1, 5, i+1)\n",
        "    plt.imshow(train_images[idx], cmap='gray')\n",
        "    plt.title(f'Similaridade: {similarities[0][idx]:.2f}')\n",
        "    plt.axis('off')\n",
        "\n",
        "plt.show()"
      ],
      "metadata": {
        "colab": {
          "base_uri": "https://localhost:8080/",
          "height": 259
        },
        "id": "UYjkLzG0mWRn",
        "outputId": "8e153167-4f48-4433-8dbe-26f1ed1ab461"
      },
      "execution_count": 13,
      "outputs": [
        {
          "output_type": "display_data",
          "data": {
            "text/plain": [
              "<Figure size 1500x1000 with 5 Axes>"
            ],
            "image/png": "[encoded data removed]"
          },
          "metadata": {}
        }
      ]
    }
  ]
}